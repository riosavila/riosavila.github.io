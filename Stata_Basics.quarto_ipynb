{
  "cells": [
    {
      "cell_type": "markdown",
      "metadata": {},
      "source": [
        "---\n",
        "title: \"Stata-Basics\"\n",
        "format: html\n",
        "jupyter: nbstata\n",
        "execute: \n",
        "  freeze: true\n",
        "  echo: false\n",
        "  error: true\n",
        "---\n",
        "\n",
        "\n",
        "# Get to know `Stata`\n",
        "\n",
        "![](images/paste-1.png)\n",
        "\n",
        "## Command Window\n",
        "\n",
        "-   You can use command window to type and excute commands directly into `Stata`.\n",
        "-   Great for interactive exploration and analysis...\n",
        "-   But highly recommended that Final analysis is \"always\" done in a \"do-file\"\n"
      ],
      "id": "bd744e25"
    },
    {
      "cell_type": "code",
      "metadata": {},
      "source": [
        "*| echo: false\n",
        "%%echo\n",
        "display \"Hola\"\n",
        "display \"2+2=\" 2+2\n",
        "display \"The probability that z >1.95 is \" %5.3f 1-normal(1.95)"
      ],
      "id": "2291b33b",
      "execution_count": null,
      "outputs": []
    },
    {
      "cell_type": "markdown",
      "metadata": {},
      "source": [
        "## Help\n",
        "\n",
        "-   99% of Stata commands come with Extensive help.\n",
        "-   If you do not know how to use a command, or about a test just \"ask for help\"\n",
        "\n",
        "``` stata\n",
        "help help\n",
        "```\n",
        "\n",
        "``` stata\n",
        "[R] help -- Display help in Stata\n",
        "-------------------------------------------------------------------------------\n",
        "Stata's help system\n",
        "    There are several kinds of help available to the Stata user. For more\n",
        "    information, see Advice on getting help.  The information below is\n",
        "    technical details about Stata's help command.\n",
        "-------------------------------------------------------------------------------\n",
        "Syntax\n",
        "        help [command_or_topic_name] [, nonew name(viewername)\n",
        "              marker(markername)]\n",
        "Menu\n",
        "    Help > Stata command...\n",
        "Description\n",
        "    The help command displays help information about the specified command or\n",
        "    topic.  help launches a new Viewer to display help for the specified\n",
        "    command or topic or displays help on the console in Stata for\n",
        "    Unix(console).  If help is not followed by a command or a topic name,\n",
        "    Stata displays advice for using the help system and documentation.\n",
        "```\n",
        "\n",
        "For estimation commands, and specialized tests, `help` even provides links to the manuals.\n",
        "\n",
        "The manuals have extensive detailed information on methods, formulas, references, and examples.\n",
        "\n",
        "![](images/paste-2.png)\n",
        "\n",
        "- Of course there is 1% that is \"documented/undocumented\" or truly undocumented. \n",
        "\n",
        "- Most Community-contributed commands also have helpfiles, but are not always fully documented.\n",
        "\n",
        "- You could also ask for helps on \"topics\": `help sample selection`\n",
        "  \n",
        "## Installing Programs\n",
        "\n",
        "- `Stata`, for all practical purposes, is self-contained. \n",
        "  - You do not need outside sources to analyze your data, estimate models, create tables, etc.\n",
        "- However, many users provide add-ons that may help to make your work \"easier\"\n",
        "  - Main Stata repository : Boston College Statistical Software Components (**SSC**) archive\n",
        "\n",
        "```stata\n",
        "** For using Wooldridge Book Datasets\n",
        "ssc install frause, replace \n",
        "** For Easiy tables\n",
        "net install estout, replace from(https://raw.githubusercontent.com/benjann/estout/master/)\n",
        "** My own installer for extra utilities\n",
        "net install fra, replace from(https://friosavila.github.io/stpackages) \n",
        "fra install fra_tools, replace\n",
        "```\n",
        "\n",
        "- If at any point there is code that produces an error, and there is no `help`, let me know.\n",
        "\n",
        "## Loading Data\n",
        "\n",
        "- `Stata` Files have format **dta**. \n",
        "- Loading Stata-data into `Stata` is very easy. \n",
        "  - Double-click (opens a new `Stata`)\n",
        "  - Drag and Drop into your `Stata` instance\n",
        "  - Load it from menu File>open \n",
        "  - or using a do-file or command window\n",
        "\n",
        "- Other Formats required extra work.\n",
        "  - Use other software to \"translate\" it into Stata\n",
        "  - Menu: File>import> many choices\n",
        "  \n",
        "### Stata System-files\n"
      ],
      "id": "61465239"
    },
    {
      "cell_type": "code",
      "metadata": {},
      "source": [
        "*| echo: false\n",
        "%%echo\n",
        "** Most Stata example files\n",
        "** Syntax:   sysuse  [filename], [clear]\n",
        "sysuse dir"
      ],
      "id": "dc2416a6",
      "execution_count": null,
      "outputs": []
    },
    {
      "cell_type": "markdown",
      "metadata": {},
      "source": [
        "### Other\n",
        "\n",
        "```stata\n",
        "** Web data from Stata\n",
        "webuse \"data-file-address\", clear\n",
        "** From other sites\n",
        "webuse set [webaddress]\n",
        "webuse data-file-address, clear \n",
        "webuse set \n",
        "** from frause and Wooldrige\n",
        "frause , dir\n",
        "frause wage1, clear\n",
        "** from anyadress\n",
        "use \"filename-adress\", clear\n",
        "use \"https://friosavila.github.io/playingwithstata/data2/wage1.dta\", clear\n",
        "```\n",
        "\n",
        "## Basic Data description\n",
        "\n",
        "::: {.panel-tabset}\n",
        "\n",
        "## sysuse\n"
      ],
      "id": "d27d0465"
    },
    {
      "cell_type": "code",
      "metadata": {},
      "source": [
        "*| echo: false\n",
        "%%echo\n",
        "sysuse auto, clear\n",
        "des\n",
        "list in 1/3"
      ],
      "id": "f11ace79",
      "execution_count": null,
      "outputs": []
    },
    {
      "cell_type": "markdown",
      "metadata": {},
      "source": [
        "## webuse\n"
      ],
      "id": "f90642ac"
    },
    {
      "cell_type": "code",
      "metadata": {},
      "source": [
        "*| echo: false\n",
        "%%echo\n",
        "webuse smoking, clear\n",
        "des\n",
        "list cigs map age ht gradd1 in 1/3"
      ],
      "id": "c8ba78c1",
      "execution_count": null,
      "outputs": []
    },
    {
      "cell_type": "markdown",
      "metadata": {},
      "source": [
        "## frause\n"
      ],
      "id": "fbf8fc44"
    },
    {
      "cell_type": "code",
      "metadata": {},
      "source": [
        "*| echo: false\n",
        "%%echo\n",
        "frause smoking, clear\n",
        "des\n",
        "list in 1/3"
      ],
      "id": "9df02187",
      "execution_count": null,
      "outputs": []
    },
    {
      "cell_type": "markdown",
      "metadata": {},
      "source": [
        ":::\n",
        "\n",
        "## Summary Statistics\n",
        "\n",
        "- Summary Statistics are essential before starting basic analysis. `Stata` gives you many options. Although not all of them are easy to export.\n"
      ],
      "id": "1010f07b"
    },
    {
      "cell_type": "code",
      "metadata": {},
      "source": [
        "%%echo\n",
        "frause oaxaca, clear\n",
        "*summarize [varlist] [if] [in] [weight] [, options]\n",
        "summarize if female==1, sep(0)"
      ],
      "id": "3d8d1e97",
      "execution_count": null,
      "outputs": []
    },
    {
      "cell_type": "code",
      "metadata": {},
      "source": [
        "%%echo\n",
        "*   tabstat varlist [if] [in] [weight] [, options]\n",
        "tabstat educ exper tenure age married, by(female)\n",
        "tabstat educ exper tenure , by(female) stats(p10 p50 p90)"
      ],
      "id": "ed12dac5",
      "execution_count": null,
      "outputs": []
    },
    {
      "cell_type": "code",
      "metadata": {},
      "source": [
        "%%echo\n",
        "ssc install table1\n",
        "* see help table1\n",
        "table1, by(female) vars(lnwage contn %3.2f \\ age contn %2.1f \\ married bin)\n",
        "qui:table1, by(female) vars(lnwage contn %3.2f \\ age contn %2.1f \\ married bin) saving(m1.xls)"
      ],
      "id": "8d8aab24",
      "execution_count": null,
      "outputs": []
    },
    {
      "cell_type": "markdown",
      "metadata": {},
      "source": [
        "You can see the file [here](m1.xls)\n",
        "\n",
        "- There are other options from `Stata` as well. see `help dtable` and `help table`.\n",
        "\n",
        "- Or you could construct some yourself with the help of `estout` and `esttab`.\n",
        "\n",
        "- See [here](https://grodri.github.io/stata/tables) for a quick guide on tables.\n",
        "\n",
        "## Creating variables\n",
        "\n",
        "- Two main commands:\n",
        "  - `generate` (or `gen` for short): Creates new variables as a function of others in the data. One can apply system functions. Example:\n",
        "    -  `gen var1 = 1`\n",
        "    -  `gen var2 = _n`\n",
        "    -  `gen wage = exp(lnwage)`\n",
        "    -  `gen age_educ = age * educ`\n",
        "   -  `replace`: replaces values in an already existing variable. \n",
        "      -  `replace wage = 0 if wage==.`\n",
        "      -  `replace age_educ = . if female==1`\n",
        "  -  `egen`: Advanced variable generating function. It applies a single function to a variable or list of variables to create a third one.\n",
        "     -  `egen wage_mean=mean(exp(lnwage)), by(female)`\n",
        "     -  `egen wage_p10=pctile(lnwage), by(female) p(10)`\n",
        "-  To *delete* a variable, you can use `drop varname/varlist` or `drop2 varname/varlist`\n",
        "   -  `drop` is the official. Stops if the variable does not exist.\n",
        "   -  `drop2` an addon. Will still work even if a variable name does not exist.  \n",
        "       Requires using full variable name. \n"
      ],
      "id": "fe8b8c54"
    },
    {
      "cell_type": "code",
      "metadata": {},
      "source": [
        "%%echo\n",
        "gen var1 = exp(lnwage)\n",
        "gen xar2 = exp(lnwage)+married\n",
        "drop x\n",
        "des var1 xar2"
      ],
      "id": "f8347083",
      "execution_count": null,
      "outputs": []
    },
    {
      "cell_type": "code",
      "metadata": {},
      "source": [
        "%%echo\n",
        "gen xar2 = exp(lnwage)+married\n",
        "drop2 x "
      ],
      "id": "2294c0dc",
      "execution_count": null,
      "outputs": []
    },
    {
      "cell_type": "markdown",
      "metadata": {},
      "source": [
        "## Variables Management\n",
        "\n",
        "- `Stata` is case sensitive. \n",
        "  - You can create variables with names `one`, `One`, `OnE`, `ONE`, etc. \n",
        "  - \"file addresses\" and commands are also case sensitive\n",
        "- In `Stata`, variable names ***cannot*** can only start with a letter or \"_\". Otherwise, it will give you an error.\n",
        "- Once variables are created, you could \"label\" them  \n",
        "    `label var variable_name \"Description\" `\n",
        "- You can name other components of a dataset as well. See `help label`    \n",
        "\n",
        "## Plots in Stata\n",
        "\n",
        "- `Stata` can create figures and plots for data exploration\n",
        "\n",
        "### Scatter plot\n"
      ],
      "id": "447178ad"
    },
    {
      "cell_type": "code",
      "metadata": {},
      "source": [
        "%%echo\n",
        "webuse dui, clear\n",
        "scatter citations fines"
      ],
      "id": "d8be9755",
      "execution_count": null,
      "outputs": []
    },
    {
      "cell_type": "code",
      "metadata": {},
      "source": [
        "%%echo\n",
        "two (scatter citations fines if csize==1)  ///\n",
        "    (scatter citations fines if csize==2), ///\n",
        "    legend(order(1 \"Small\" 2 \"Medium\"))"
      ],
      "id": "18bd7d14",
      "execution_count": null,
      "outputs": []
    },
    {
      "cell_type": "markdown",
      "metadata": {},
      "source": [
        "- The limitation. User written plotting commands do not interact well with Official plotting commands.\n",
        "\n",
        "## Saving your work\n",
        "\n",
        "- Command Window is effective to provide interactive analysis\n",
        "- At the end of your *session*, you can recover everything you did, clicking on the History Section, and save everythig, or just specific commands.\n",
        "- The best approach, however, is to  ***ALWAYS***   use a do-file.\n",
        "\n",
        "- **First of all**: Create a working directory. A folder in your computer that will hold your project, work, paper, homework, etc. (highly recommended)\n",
        "- **Create a dofile**: For simple projects a single file will suffice, but multiple may be needed for larger ones.\n",
        "- To start a dofile, simply type `doedit \"filename\"` in your command window.\n",
        "  - If file exists in your \"working directory\" (type `cd` to see where you \"are\"), it will open it.\n",
        "  - Otherwise, a new file will be created\n",
        "\n",
        "- `do-files` are the best approach to save your work, and keep track of your analysis.\n",
        "- General Suggestion: Allways add comments to it, to know what you are doing\n"
      ],
      "id": "42f3aa61"
    },
    {
      "cell_type": "code",
      "metadata": {},
      "source": [
        "*| echo: true\n",
        "*  You can always Start a command like this\n",
        "// Or like this\n",
        "/*\n",
        "But you can always add a large comment using \"/*\" to start\n",
        "and \"*/\" to end it\n",
        "*/\n",
        "\n",
        "/* You could also add comments at the end of a command */\n",
        "sysuse auto, clear  // Loading Auto Dataset, after \"clearing\" the one currently in memory\n",
        "\n",
        "// Or as I did before, break a long command in various lines using \"///\"\n",
        "// Comments after \"///\" are possible\n",
        "regress price     /// Dep variable\n",
        "        mpg       /// indep variable \n",
        "        i.foreign, /// Foreign Dummy\n",
        "        robust     // Request Robust Standard errors.\n",
        "        \n",
        "** Last one has only two \"/\", because line ends there"
      ],
      "id": "be0068c3",
      "execution_count": null,
      "outputs": []
    },
    {
      "cell_type": "markdown",
      "metadata": {},
      "source": [
        "## Estimation Commands\n",
        "\n",
        "- Most commands in `Stata` have the following syntax:\n",
        "\n",
        "```\n",
        "[by varlist:/prefix] command [varlist]  [if exp] [in range] [weight] [using filename] [,options]\n",
        "```\n",
        "\n",
        "- everything in `[]` are optional. \n",
        "- `[by varlist:/prefix]`: `by` is used to execute the command by groups.  \n",
        "  `prefix` to request additional manipulation (advanced use)\n",
        "- `command`: The command itself that will process the data\n",
        "- `varlist`: For Estimation commands include the dependent (first) and independent variables (everything else)\n",
        "- `[if exp] [in range]`: To restrict  samples \n",
        "- `[weight]`: Request the use of weights ie: `[fw = wgt_var]` or `[pw = wgt_var]`\n",
        "- `[using filename]`: Some commands allow you to use this to work with not-yet loaded datasets or files.\n",
        "- `[options]`: Options requesting specific behaivior, statistics, etc\n",
        "\n",
        "## Adv options for saving work.\n",
        "\n",
        "- Use `github`, as an additional data-repository\n",
        "- Combine `Stata`, `python` and `nbstat` to create `Jupyter notebooks`.\n",
        "- You can also use Quarto to create full dynamic reports.\n",
        "\n",
        "# Thank you!"
      ],
      "id": "86df47a2"
    }
  ],
  "metadata": {
    "kernelspec": {
      "name": "nbstata",
      "language": "stata",
      "display_name": "Stata (nbstata)",
      "path": "C:\\Users\\Fernando\\AppData\\Roaming\\jupyter\\kernels\\nbstata"
    }
  },
  "nbformat": 4,
  "nbformat_minor": 5
}