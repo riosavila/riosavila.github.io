{
  "cells": [
    {
      "cell_type": "raw",
      "metadata": {},
      "source": [
        "---\n",
        "title: Pool Cross-section and Panel Data\n",
        "subtitle: One year is no longer enough\n",
        "author: Fernando Rios-Avila\n",
        "format:\n",
        "  revealjs:\n",
        "    slide-number: true\n",
        "    width: 1600\n",
        "    height: 900\n",
        "    code-fold: true\n",
        "    code-overflow: wrap\n",
        "    echo: true\n",
        "    css: styles.css\n",
        "    chalkboard: true\n",
        "---"
      ],
      "id": "469e0a2a"
    },
    {
      "cell_type": "markdown",
      "metadata": {},
      "source": [
        "## Pooling Data together: Cross-section and Panel Data\n",
        "\n",
        "- Up to this point, we have cover the analysis of cross-section data. \n",
        "  - Many individuals at a single point in time.\n",
        "- Towards the end of the semester, We will also cover the analysis of time series data.\n",
        "  - A single individual across time.\n",
        "- Today, we will cover the analysis of panel data and repeated crossection: Many individuals across time.\n",
        "  \n",
        "- This type of data, also known as longitudinal data, has advantages over crossection, as it provides more information that helps dealing with the unknown of $e$.\n",
        "\n",
        "- And its often the only way to answer certain questions.\n",
        "  \n",
        "## Pooling independent crossections\n",
        "\n",
        "- We first consider the case of independent crossections. \n",
        "  - We have access to surveys that may be collected regularly. (Household budget surveys)\n",
        "  - We assume that individuals across this surveys are independent from each other (no panel structure).\n",
        "- This scenario is typically used for increasing sample-sizes and thus power of analysis (*larger N smaller SE*)\n",
        "- Only minor considerations are needed when analyzing this type of data.\n",
        "  - We need to account for the fact Data comes from different years. This can be done by including year dummies.\n",
        "  - May need to Standardize variables to make them comparable across years. (inflation adjustments, etc.)\n",
        "\n",
        "## Example {.scrollable}\n",
        "\n",
        "Lets use the data `fertil1` to estimate the changes in fertility rates across time. This data comes from the *General Social Survey*.\n"
      ],
      "id": "4f337e79"
    },
    {
      "cell_type": "code",
      "metadata": {},
      "source": [
        "frause fertil1, clear\n",
        "regress kids educ age agesq black east northcen west farm othrural town smcity i.year, robust  "
      ],
      "id": "208fed99",
      "execution_count": null,
      "outputs": []
    },
    {
      "cell_type": "markdown",
      "metadata": {},
      "source": [
        "- This allow us to see how fertility rates have changed across time.\n",
        "- One could even interact the year dummies with other variables to see how the effect of other variables have changed across time.\n"
      ],
      "id": "20c5035e"
    },
    {
      "cell_type": "code",
      "metadata": {},
      "source": [
        "frause cps78_85, clear\n",
        "regress lwage i.year##c.(educ i.female) exper expersq union, robust cformat(%5.4f)"
      ],
      "id": "45e292a2",
      "execution_count": null,
      "outputs": []
    },
    {
      "cell_type": "markdown",
      "metadata": {},
      "source": [
        "## Good old Friend: Chow test\n",
        "\n",
        "- The Chow test can be used to test whether the coefficients of a regression model are the same across two groups. \n",
        "  - we have seen this test back when we were discussing dummy variables.\n",
        "- We can also use this test to check if coefficients of a regression model are the same across two time periods. (Has the wage structure changed across time?)\n",
        "  - This is the case of interest here.\n",
        "- Not much changes with before. Although it can be a bit more tedious to code.\n",
        "\n",
        "## Example {.scrollable}\n"
      ],
      "id": "dffec921"
    },
    {
      "cell_type": "code",
      "metadata": {},
      "source": [
        "frause cps78_85, clear\n",
        "regress lwage i.year##c.(educ i.female exper expersq i.union), robust"
      ],
      "id": "5850e45e",
      "execution_count": null,
      "outputs": []
    },
    {
      "cell_type": "code",
      "metadata": {},
      "source": [
        "*| code-fold: false\n",
        "test 85.year#c.educ 85.year#1.female 85.year#c.exper   85.year#c.expersq 85.year#1.union"
      ],
      "id": "fbd0a79c",
      "execution_count": null,
      "outputs": []
    },
    {
      "cell_type": "markdown",
      "metadata": {},
      "source": [
        "## Using Pool Crossection for Causal Inference\n",
        "\n",
        "- One advantage of pooling crossection data is that it could to be used to estimate causal effects using a method known as Differences in Differences (DnD)\n",
        "\n",
        "- Consider the following case:\n",
        "  - There was a project regarding the construction of an incinerator in a city. You are asked to evaluate what the impact of this was on the prices of houses around the area. \n",
        "  - You have access to data for two years: 1978 and 1981.\n",
        "  - In 1978, there was no information about the project. In 1981, the project was announced, but it only began operations in 1985.\n",
        "\n",
        "##\n",
        "\n",
        "- we could start estimating the project using the simple model:\n",
        "$$rprice = \\beta_0 + \\beta_1 nearinc + e$$\n",
        "\n",
        "using only 1981 data. But this would not be a good idea. Why?\n"
      ],
      "id": "add40641"
    },
    {
      "cell_type": "code",
      "metadata": {},
      "source": [
        "*| classes: larger\n",
        "frause kielmc, clear\n",
        "regress rprice nearinc if year == 1981, robust"
      ],
      "id": "087eda4e",
      "execution_count": null,
      "outputs": []
    },
    {
      "cell_type": "markdown",
      "metadata": {},
      "source": [
        "## \n",
        "\n",
        "- We could also estimate the model using only 1971 data.\n",
        "  What would this be showing us?\n"
      ],
      "id": "8cd37231"
    },
    {
      "cell_type": "code",
      "metadata": {},
      "source": [
        "*| classes: larger\n",
        "regress rprice nearinc if year == 1978, robust"
      ],
      "id": "86f12f25",
      "execution_count": null,
      "outputs": []
    },
    {
      "cell_type": "markdown",
      "metadata": {},
      "source": [
        "##\n",
        "\n",
        "- So, using 1981 data we capture the Total price difference between houses near and far from the incinerator. \n",
        "  - This captures both the announcement effect of the project, but also other factors (where would an incinerator be built?).\n",
        "- Using 1978 data we capture the price difference between houses near and far from the incinerator in the absence of the project. \n",
        "  - This captures the effect of other factors that may be correlated with the incinerator project.\n",
        "- Use both to see the impact!\n",
        "\n",
        "$$Effect = -30688.27-(-18824.37)= -11863.9$$\n",
        "\n",
        "- This is in essence a DnD model\n",
        "\n",
        "## Difference in Differences\n",
        "\n",
        "\n",
        "|  | Control| Treatment | Treat-Control |\n",
        "|---|---|---|---|\n",
        "| Pre-            | $\\bar y_{00}$ | $\\bar y_{10}$| $\\bar y_{10}$-$\\bar y_{00}$ |\n",
        "| Post-           | $\\bar y_{01}$ | $\\bar y_{11}$ | $\\bar y_{10}$-$\\bar y_{00}$ |\n",
        "| Post-pre        | $\\bar y_{01}$-$\\bar y_{00}$ | $\\bar y_{11}$-$\\bar y_{10}$ | DD  |\n",
        "  \n",
        "- Post-Pre: \n",
        "  - Trend changes for the control\n",
        "  - Trend changes for the treated: A mix of the impact of the treatment and the trend change.\n",
        "- Treat-Control: \n",
        "  - Baseline difference when looking at Pre-period\n",
        "  - Total Price differentials when looking at Post-period: Mix of the impact of the treatment and the baseline difference.\n",
        "\n",
        "- Take the Double Difference and you get the **treatment effect**.\n",
        "\n",
        "## Difference in Differences: Regression {.scrollable}\n",
        "\n",
        "- This could also be achieved using a regression model:\n",
        "\n",
        "$$ y = \\beta_0 + \\beta_1 post + \\beta_2 treat + \\beta_3 post*treat + e$$\n",
        "\n",
        "Where $\\beta_3$ is the treatment effect. (only for 2x2 DD)\n"
      ],
      "id": "44e1c828"
    },
    {
      "cell_type": "code",
      "metadata": {},
      "source": [
        "regress rprice nearinc##y81, robust"
      ],
      "id": "4c9b34cf",
      "execution_count": null,
      "outputs": []
    },
    {
      "cell_type": "markdown",
      "metadata": {},
      "source": [
        "## Difference in Differences: Regression + controls \n",
        "\n",
        "- One advantage of DD is that it can control for those unobserved factors that may be correlated with outcome. \n",
        "  - Without controls, however, estimates may not have enough precision.\n",
        "- But, we could add controls!\n",
        "\n",
        "$$ y = \\beta_0 + X \\gamma + \\beta_1 post + \\beta_2 treat + \\beta_3 post*treat + e$$\n",
        "\n",
        "But its not as easy as it may seem! (just adding regressions is not a good approach)\n",
        "\n",
        "This method requires other assumptions! ($\\gamma$ is fixed), which may be very strong.\n",
        "\n",
        "\n",
        ">[**Note:**]{.redtxt} For DD to work, you need to assume the two groups follow the same path in the absence of the treatment. (Parallel trends assumption)\n",
        ">\n",
        ">Otherwise, you are just using trend differences!\n",
        "\n",
        "## Diff in Diff in Diff\n",
        "\n",
        "An Alternative approach is to use a triple difference model.\n",
        "\n",
        "Setup:\n",
        "\n",
        "- You still have two groups: Control and Treatment (which are easily identifiable)\n",
        "- You have two time periods: Pre and Post (which are also easily identifiable)\n",
        "- You have a different sample, where you can identify controls and treatment, as well as the pre- and post- periods. This sample was not treated!\n",
        "\n",
        "Estimation: \n",
        "\n",
        "- Estimate the DD for the Original Sample, and the new untreated sample. \n",
        "- Obtaining the difference between these two estimates will give you the triple difference.\n",
        "\n",
        "Example: Smoking ban analysis based on age. (DD) But using both treated and untreated States (DDD)\n",
        "\n",
        "## General Framework and Pseudo Panels\n",
        "\n",
        "- One general Structure for Policy analysis is the use of Pseudo Panels structure.\n",
        "  - Pseudo panels are a way to use repeated crossection data, but controlling for some unobserved heterogeneity across specific groups. (the pseudo panels)\n",
        "- For Pseudo-panels, we need to identify a group that could be followed across time. \n",
        "  - This cannot be a group of individuals (repeated crosection). \n",
        "  - But we could use groups of states, cohorts (year of birth), etc.\n",
        "- In this case, the data would look like this:\n",
        "$$y_{igt} = \\lambda_t + \\alpha_g + \\beta x_{gt} + z_{igt}\\gamma +  e_{igt}$$\n",
        "\n",
        "- Where $g$ is the group, $t$ is the time, and $i$ is the individual.\n",
        "- And $\\beta$ is the coefficient of interest. (impact of the Policy $x_{gt}$).\n",
        "  - This may ony work if we assume $\\beta$ is constant across time and groups.\n",
        "\n",
        "## Alternative\n",
        "\n",
        "- We could also use a more general model:\n",
        "$$y_{igt} = \\lambda_{gt}+ \\beta x_{gt} + z_{igt}\\gamma +  e_{igt}$$\n",
        "\n",
        "- where $\\lambda_{gt}$ is a group-time fixed effect. \n",
        "  - Nevertheless, while more flexible, this also imposes other types of assumptions, and might even be unfeasible if we have a large number of groups and time periods.\n",
        "\n",
        "- Still, we require $\\beta$ to be homogenous. If that is not the case, you may still suffer from contamination bias.\n",
        "\n",
        "# Panel data\n",
        "Baby steps: 2 period panel data\n",
        "\n",
        "## "
      ],
      "id": "7ca8021a"
    }
  ],
  "metadata": {
    "kernelspec": {
      "name": "nbstata",
      "language": "stata",
      "display_name": "Stata (nbstata)"
    }
  },
  "nbformat": 4,
  "nbformat_minor": 5
}