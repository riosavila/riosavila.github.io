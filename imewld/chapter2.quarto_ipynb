{
  "cells": [
    {
      "cell_type": "markdown",
      "metadata": {},
      "source": [
        "---\n",
        "title: \"Chapter 2: The Simple Regression Model\"\n",
        "jupyter: nbstata\n",
        "format: \n",
        "    html: default\n",
        "execute: \n",
        "  echo: true\n",
        "---\n",
        "\n",
        "\n",
        "## Example 2.3: CEO Salary and Return on Equity\n",
        "\n",
        "Model:\n",
        "\n",
        "$$salary = \\beta_0 + \\beta_1 roe + u$$\n",
        "\n",
        ":::{.callout}"
      ],
      "id": "baae1fdb"
    },
    {
      "cell_type": "code",
      "metadata": {},
      "source": [
        "frause ceosal1, clear\n",
        "regress salary roe    \n",
        "\n",
        "display \"Prediction: \" _b[_cons] \" +\" _b[roe] \"*30\" \"=\" _b[_cons] + _b[roe] *30"
      ],
      "id": "29879f57",
      "execution_count": null,
      "outputs": []
    },
    {
      "cell_type": "markdown",
      "metadata": {},
      "source": [
        ":::\n",
        "\n",
        "## Example 2.4: Wage and Education\n",
        "\n",
        ":::{.callout}"
      ],
      "id": "8809544c"
    },
    {
      "cell_type": "code",
      "metadata": {},
      "source": [
        "frause wage1, clear\n",
        "regress wage educ"
      ],
      "id": "3f720d13",
      "execution_count": null,
      "outputs": []
    },
    {
      "cell_type": "markdown",
      "metadata": {},
      "source": [
        ":::\n",
        "\n",
        "## Example 2.5: Voting Outcomes and Campaign Expenditures\n",
        "\n",
        ":::{.callout}"
      ],
      "id": "2b79350a"
    },
    {
      "cell_type": "code",
      "metadata": {},
      "source": [
        "frause vote1, clear\n",
        "regress votea sharea"
      ],
      "id": "895cd26a",
      "execution_count": null,
      "outputs": []
    },
    {
      "cell_type": "markdown",
      "metadata": {},
      "source": [
        ":::\n",
        "\n",
        "## Example 2.6: CEO Salary and Return on Equity\n",
        "\n",
        ":::{.callout}"
      ],
      "id": "674c4508"
    },
    {
      "cell_type": "code",
      "metadata": {},
      "source": [
        "frause ceosal1, clear\n",
        "qui:regress salary roe  \n",
        "predict salaryhat, xb\n",
        "predict uhat , resid\n",
        "\n",
        "list roe salary salaryhat uhat  in 1/10"
      ],
      "id": "73f5b5e1",
      "execution_count": null,
      "outputs": []
    },
    {
      "cell_type": "markdown",
      "metadata": {},
      "source": [
        ":::\n",
        "\n",
        "## Example 2.7: Wage and Education\n",
        "\n",
        ":::{.callout}"
      ],
      "id": "78096cbe"
    },
    {
      "cell_type": "code",
      "metadata": {},
      "source": [
        "frause wage1, clear\n",
        "qui:regress wage educ\n",
        "sum wage educ\n",
        "display \"b0+b1*E(educ)= \" _b[_cons] + _b[educ]*r(mean)"
      ],
      "id": "466f611f",
      "execution_count": null,
      "outputs": []
    },
    {
      "cell_type": "markdown",
      "metadata": {},
      "source": [
        ":::\n",
        "\n",
        "## Example 2.8: CEO Salary and Return on Equity\n"
      ],
      "id": "dea7c1b9"
    },
    {
      "cell_type": "code",
      "metadata": {},
      "source": [
        "frause ceosal1, clear\n",
        "gen one=1\n",
        "mata:y = st_data(., \"salary\")\n",
        "mata:x = st_data(., \"one roe\")\n",
        "mata:b = invsym(x'*x)*x'*y\n",
        "mata:yhat = x*b\n",
        "mata:uhat = y - yhat\n",
        "mata:sst = sum((y :- mean(y)):^2)\n",
        "mata:sse = sum((yhat :- mean(y)):^2)\n",
        "mata:ssr = sum((y :- yhat):^2)\n",
        "mata:rsq = 1 - ssr/sst;rsq\n",
        "mata:rsq = sse/sst;rsq"
      ],
      "id": "d296f7e6",
      "execution_count": null,
      "outputs": []
    },
    {
      "cell_type": "markdown",
      "metadata": {},
      "source": [
        "## Example 2.10: a log wage model\n",
        "\n",
        "Model\n",
        "\n",
        "$$log(wage) = \\beta_0 + \\beta_1 educ + u$$\n",
        "\n",
        ":::{.callout}"
      ],
      "id": "674504ca"
    },
    {
      "cell_type": "code",
      "metadata": {},
      "source": [
        "frause wage1, clear\n",
        "gen logwage = log(wage)\n",
        "regress logwage educ"
      ],
      "id": "5d72aeab",
      "execution_count": null,
      "outputs": []
    },
    {
      "cell_type": "markdown",
      "metadata": {},
      "source": [
        ":::\n",
        "\n",
        "## Example 2.11: CEO Salary and Firms Sales\n",
        "\n",
        "Model:\n",
        "\n",
        "$$log(salary) = \\beta_0 + \\beta_1 log(sales) + u$$\n",
        "\n",
        ":::{.callout}"
      ],
      "id": "19ab5aab"
    },
    {
      "cell_type": "code",
      "metadata": {},
      "source": [
        "frause ceosal1, clear\n",
        "gen logsalary = log(salary)\n",
        "gen logsales = log(sales)\n",
        "reg logsalary logsales"
      ],
      "id": "5a27e790",
      "execution_count": null,
      "outputs": []
    },
    {
      "cell_type": "markdown",
      "metadata": {},
      "source": [
        ":::\n",
        "\n",
        "## Example 2.14: Evaluating a Job Training Program\n",
        "\n",
        ":::{.callout}"
      ],
      "id": "f4388ae2"
    },
    {
      "cell_type": "code",
      "metadata": {},
      "source": [
        "frause jtrain2, clear\n",
        "reg re78 train"
      ],
      "id": "384f5af8",
      "execution_count": null,
      "outputs": []
    },
    {
      "cell_type": "markdown",
      "metadata": {},
      "source": [
        ":::\n"
      ],
      "id": "44fcacd3"
    }
  ],
  "metadata": {
    "kernelspec": {
      "name": "nbstata",
      "language": "stata",
      "display_name": "Stata (nbstata)",
      "path": "C:\\Users\\Fernando\\AppData\\Roaming\\jupyter\\kernels\\nbstata"
    }
  },
  "nbformat": 4,
  "nbformat_minor": 5
}