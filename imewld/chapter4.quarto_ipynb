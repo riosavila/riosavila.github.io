{
  "cells": [
    {
      "cell_type": "markdown",
      "metadata": {},
      "source": [
        "---\n",
        "title: \"Chapter 4: Multiple Regression Analysis: Inference\"\n",
        "jupyter: nbstata\n",
        "format: \n",
        "    html: default\n",
        "execute: \n",
        "  echo: true\n",
        "---\n",
        "\n",
        "\n",
        "## Testing hypotheses about single linear combinations of the parameters\n",
        "\n",
        "Model:\n",
        "\n",
        "$$log(wage)=\\beta_0 +\\beta_1 jc + \\beta_2 univ + \\beta_3 exper + u$$\n",
        "\n",
        "Hypothesis\n",
        "\n",
        "$$H_0: \\beta_1 = \\beta_2 \\rightarrow \\beta_1 - \\beta_2 = 0$$\n",
        "$$H_1: \\beta_1 < \\beta_2 \\rightarrow \\beta_1 - \\beta_2 < 0$$\n"
      ],
      "id": "60d92c3f"
    },
    {
      "cell_type": "code",
      "metadata": {},
      "source": [
        "frause twoyear, clear\n",
        "reg lwage jc univ exper"
      ],
      "id": "2780a51c",
      "execution_count": null,
      "outputs": []
    },
    {
      "cell_type": "code",
      "metadata": {},
      "source": [
        "test jc = univ"
      ],
      "id": "3584fe2e",
      "execution_count": null,
      "outputs": []
    },
    {
      "cell_type": "markdown",
      "metadata": {},
      "source": [
        "Manual transformation:\n",
        "\n",
        "$$\\theta = \\beta_1 - \\beta_2 \\rightarrow \\beta_1 = \\theta + \\beta_2 $$\n",
        "\n",
        "$$log(wage)=\\beta_0 +(\\theta + \\beta_2) jc + \\beta_2 univ + \\beta_3 exper + u$$\n",
        "$$log(wage)=\\beta_0 +\\theta jc + \\beta_2 (univ+jc) + \\beta_3 exper + u$$\n"
      ],
      "id": "8dcc6636"
    },
    {
      "cell_type": "code",
      "metadata": {},
      "source": [
        "gen univjc = univ + jc\n",
        "reg lwage jc univjc exper"
      ],
      "id": "927986df",
      "execution_count": null,
      "outputs": []
    }
  ],
  "metadata": {
    "kernelspec": {
      "name": "nbstata",
      "language": "stata",
      "display_name": "Stata (nbstata)",
      "path": "C:\\Users\\Fernando\\AppData\\Roaming\\jupyter\\kernels\\nbstata"
    }
  },
  "nbformat": 4,
  "nbformat_minor": 5
}