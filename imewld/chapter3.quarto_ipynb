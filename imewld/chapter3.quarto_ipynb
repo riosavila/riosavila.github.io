{
  "cells": [
    {
      "cell_type": "markdown",
      "metadata": {},
      "source": [
        "---\n",
        "title: \"Chapter 3: Multiple Regression Analysis: Estimation\"\n",
        "jupyter: nbstata\n",
        "format: \n",
        "    html: default\n",
        "execute: \n",
        "  echo: true\n",
        "---\n",
        "\n",
        "\n",
        "## Example 3.1: Determinants of College GPA\n",
        "\n",
        "Model:\n",
        "\n",
        "$$colGPA = \\beta_0 + \\beta_1hsGPA + \\beta_2ACT + u$$\n"
      ],
      "id": "b92ce758"
    },
    {
      "cell_type": "code",
      "metadata": {},
      "source": [
        "frause gpa1, clear\n",
        "regress colgpa hsgpa act\n",
        "regress colgpa act"
      ],
      "id": "2fc4fbab",
      "execution_count": null,
      "outputs": []
    },
    {
      "cell_type": "markdown",
      "metadata": {},
      "source": [
        "## Example 3.2: Hourly Wage Equation\n",
        "\n",
        "Model:\n",
        "\n",
        "$$log(wage)=\\beta_0 + \\beta_1educ + \\beta_2exper + \\beta_3tenure + u$$\n"
      ],
      "id": "50b988bf"
    },
    {
      "cell_type": "code",
      "metadata": {},
      "source": [
        "frause wage1, clear\n",
        "gen logwage = log(wage)\n",
        "reg logwage educ exper tenure"
      ],
      "id": "42a3bc69",
      "execution_count": null,
      "outputs": []
    },
    {
      "cell_type": "markdown",
      "metadata": {},
      "source": [
        "## Partialling Out Interpretation of Multiple Regression\n",
        "\n",
        "Model:\n",
        "\n",
        "$$log(wage)=\\beta_0 + \\beta_1educ + \\beta_2exper + \\beta_3tenure + u$$\n",
        "\n",
        "We could estimate the same models with the followin:\n",
        "\n",
        "$$educ=\\gamma_0 + \\gamma_1exper + \\gamma_2tenure + v$$\n",
        "\n",
        "$$log(wage)=\\beta_0 + \\beta_1 \\hat v + u$$\n"
      ],
      "id": "31d4ed76"
    },
    {
      "cell_type": "code",
      "metadata": {},
      "source": [
        "qui:reg logwage exper tenure\n",
        "predict logwage_res, resid\n",
        "qui:reg educ exper tenure\n",
        "predict educ_res, resid\n",
        "reg logwage_res educ_res"
      ],
      "id": "b345681a",
      "execution_count": null,
      "outputs": []
    },
    {
      "cell_type": "markdown",
      "metadata": {},
      "source": [
        "## Example 3.4 : Determinants of College GPA\n",
        "\n",
        "See example 3.1\n",
        "\n",
        "## Example 3.5 : Explaining Arrest Records\n"
      ],
      "id": "6a588a19"
    },
    {
      "cell_type": "code",
      "metadata": {},
      "source": [
        "frause crime1, clear\n",
        "regress narr86 pcnv  ptime86 qemp86"
      ],
      "id": "899c141f",
      "execution_count": null,
      "outputs": []
    },
    {
      "cell_type": "code",
      "metadata": {},
      "source": [
        "regress narr86 pcnv avgsen ptime86 qemp86"
      ],
      "id": "4a679ba8",
      "execution_count": null,
      "outputs": []
    },
    {
      "cell_type": "markdown",
      "metadata": {},
      "source": [
        "## Variance Inflation Factors\n"
      ],
      "id": "570d197c"
    },
    {
      "cell_type": "code",
      "metadata": {},
      "source": [
        "qui:regress narr86 pcnv avgsen ptime86 qemp86\n",
        "estat vif"
      ],
      "id": "636ea33b",
      "execution_count": null,
      "outputs": []
    },
    {
      "cell_type": "code",
      "metadata": {},
      "source": [
        "qui:regress pcnv avgsen ptime86 qemp86\n",
        "display \"VIF for pcnv:   \" 1/(1-e(r2))\n",
        "qui:regress avgsen ptime86 qemp86 pcnv\n",
        "display \"VIF for avgsen: \" 1/(1-e(r2))"
      ],
      "id": "a0b3a58a",
      "execution_count": null,
      "outputs": []
    },
    {
      "cell_type": "markdown",
      "metadata": {},
      "source": [
        "## Example 3.7 : Evaluating a Job Training Program\n"
      ],
      "id": "4389f390"
    },
    {
      "cell_type": "code",
      "metadata": {},
      "source": [
        "frause jtrain98, clear\n",
        "regress earn98 train"
      ],
      "id": "105116b2",
      "execution_count": null,
      "outputs": []
    },
    {
      "cell_type": "code",
      "metadata": {},
      "source": [
        "regress earn98 train earn96 educ age married  "
      ],
      "id": "ce28bb8b",
      "execution_count": null,
      "outputs": []
    }
  ],
  "metadata": {
    "kernelspec": {
      "name": "nbstata",
      "language": "stata",
      "display_name": "Stata (nbstata)",
      "path": "C:\\Users\\Fernando\\AppData\\Roaming\\jupyter\\kernels\\nbstata"
    }
  },
  "nbformat": 4,
  "nbformat_minor": 5
}