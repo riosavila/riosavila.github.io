{
 "cells": [
  {
   "cell_type": "code",
   "execution_count": 1,
   "id": "c2812226",
   "metadata": {},
   "outputs": [],
   "source": []
  },
  {
   "cell_type": "code",
   "execution_count": 2,
   "id": "44d47443",
   "metadata": {},
   "outputs": [
    {
     "data": {
      "text/html": [
       "<style>div.jp-Notebook .datagrid-container {min-height: 448px; }</style>"
      ],
      "text/plain": [
       "<IPython.core.display.HTML object>"
      ]
     },
     "metadata": {},
     "output_type": "display_data"
    },
    {
     "name": "stdout",
     "output_type": "stream",
     "text": [
      "\n",
      ". mata\n",
      "------------------------------------------------- mata (type end to exit) -----\n",
      ":  vv1 = (1\\2\\3)\n",
      "\n",
      ":  vv2 = (1,2,3)\n",
      "\n",
      ":  a = (1,2,3 \\ 4,5,6);a\n",
      "       1   2   3\n",
      "    +-------------+\n",
      "  1 |  1   2   3  |\n",
      "  2 |  4   5   6  |\n",
      "    +-------------+\n",
      "\n",
      ":  a = (1\\4),(2\\5),(3\\6);a\n",
      "       1   2   3\n",
      "    +-------------+\n",
      "  1 |  1   2   3  |\n",
      "  2 |  4   5   6  |\n",
      "    +-------------+\n",
      "\n",
      ":  a[1,3]\n",
      "  3\n",
      "\n",
      ": end\n",
      "-------------------------------------------------------------------------------\n",
      "\n",
      ". \n"
     ]
    }
   ],
   "source": [
    "mata\n",
    "//  column vector\n",
    " vv1  =  (1\\2\\3)\n",
    "//  row vector\n",
    " vv2 =  (1,2,3)\n",
    "// matrix\n",
    " a = (1,2,3 \\ 4,5,6);a\n",
    " a = (1\\4),(2\\5),(3\\6);a\n",
    " a[1,3]\n",
    "end "
   ]
  },
  {
   "cell_type": "code",
   "execution_count": 3,
   "id": "7b275ebd",
   "metadata": {},
   "outputs": [
    {
     "name": "stdout",
     "output_type": "stream",
     "text": [
      "\n",
      ". mata\n",
      "------------------------------------------------- mata (type end to exit) -----\n",
      ":     (1\\2\\3)+(4\\5\\6)\n",
      "       1\n",
      "    +-----+\n",
      "  1 |  5  |\n",
      "  2 |  7  |\n",
      "  3 |  9  |\n",
      "    +-----+\n",
      "\n",
      ":     2*(1\\2\\3)\n",
      "       1\n",
      "    +-----+\n",
      "  1 |  2  |\n",
      "  2 |  4  |\n",
      "  3 |  6  |\n",
      "    +-----+\n",
      "\n",
      ": end\n",
      "-------------------------------------------------------------------------------\n",
      "\n",
      ". \n"
     ]
    }
   ],
   "source": [
    "mata\n",
    "    (1\\2\\3)+(4\\5\\6)\n",
    "    2*(1\\2\\3)\n",
    "end"
   ]
  },
  {
   "cell_type": "code",
   "execution_count": 4,
   "id": "5690feab",
   "metadata": {},
   "outputs": [
    {
     "name": "stdout",
     "output_type": "stream",
     "text": [
      "\n",
      ". mata:\n",
      "------------------------------------------------- mata (type end to exit) -----\n",
      ": 2 * (1,2,3 \\ 4,5,6)\n",
      "        1    2    3\n",
      "    +----------------+\n",
      "  1 |   2    4    6  |\n",
      "  2 |   8   10   12  |\n",
      "    +----------------+\n",
      "\n",
      ": end\n",
      "-------------------------------------------------------------------------------\n",
      "\n",
      ". \n"
     ]
    }
   ],
   "source": [
    "mata: \n",
    "2 * (1,2,3 \\ 4,5,6)\n",
    "end "
   ]
  },
  {
   "cell_type": "code",
   "execution_count": 5,
   "id": "d569d7dd",
   "metadata": {},
   "outputs": [
    {
     "name": "stdout",
     "output_type": "stream",
     "text": [
      "         1     2\n",
      "    +-------------+\n",
      "  1 |   66    72  |\n",
      "  2 |  156   171  |\n",
      "    +-------------+\n"
     ]
    }
   ],
   "source": [
    "mata: a = (1,2,3 \\ 4,5,6) ; b = (7,8 \\ 10,11 \\ 13,14); a*b"
   ]
  }
 ],
 "metadata": {
  "kernelspec": {
   "display_name": "Stata (nbstata)",
   "language": "stata",
   "name": "nbstata",
   "path": "C:\\Users\\Fernando\\AppData\\Roaming\\jupyter\\kernels\\nbstata"
  },
  "language_info": {
   "file_extension": ".do",
   "mimetype": "text/x-stata",
   "name": "stata",
   "version": "17"
  }
 },
 "nbformat": 4,
 "nbformat_minor": 5
}