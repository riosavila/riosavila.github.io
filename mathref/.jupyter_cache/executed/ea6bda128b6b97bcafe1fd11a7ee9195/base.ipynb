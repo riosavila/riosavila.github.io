{
 "cells": [
  {
   "cell_type": "code",
   "execution_count": 1,
   "id": "1b9ad2ad",
   "metadata": {},
   "outputs": [],
   "source": []
  },
  {
   "cell_type": "code",
   "execution_count": 2,
   "id": "3ee29b59",
   "metadata": {},
   "outputs": [
    {
     "data": {
      "text/html": [
       "<style>div.jp-Notebook .datagrid-container {min-height: 448px; }</style>"
      ],
      "text/plain": [
       "<IPython.core.display.HTML object>"
      ]
     },
     "metadata": {},
     "output_type": "display_data"
    },
    {
     "name": "stdout",
     "output_type": "stream",
     "text": [
      "       1\n",
      "    +-----+\n",
      "  1 |  1  |\n",
      "  2 |  2  |\n",
      "  3 |  3  |\n",
      "    +-----+\n",
      "       1   2   3\n",
      "    +-------------+\n",
      "  1 |  1   2   3  |\n",
      "    +-------------+\n"
     ]
    }
   ],
   "source": [
    "** column vector\n",
    "mata:  vv1  =  (1\\2\\3); vv1\n",
    "** row vector\n",
    "mata: vv2 =  (1,2,3); vv2"
   ]
  }
 ],
 "metadata": {
  "kernelspec": {
   "display_name": "Stata (nbstata)",
   "language": "stata",
   "name": "nbstata",
   "path": "C:\\Users\\Fernando\\AppData\\Roaming\\jupyter\\kernels\\nbstata"
  },
  "language_info": {
   "file_extension": ".do",
   "mimetype": "text/x-stata",
   "name": "stata",
   "version": "17"
  }
 },
 "nbformat": 4,
 "nbformat_minor": 5
}