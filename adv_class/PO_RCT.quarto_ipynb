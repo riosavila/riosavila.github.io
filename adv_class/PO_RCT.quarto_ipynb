{
  "cells": [
    {
      "cell_type": "markdown",
      "metadata": {},
      "source": [
        "---\n",
        "title: \"RCT Implementation\"\n",
        "format: \n",
        "    html:\n",
        "        code-fold: true\n",
        "jupyter: nbstata\n",
        "---\n",
        "\n",
        "\n",
        "## Randomized Control Trial\n",
        "\n",
        "In this excecise, I'll provide some simple examples of how to implement a basic RCT analysis.\n",
        "\n",
        "Before we start, however, we need to create some data. \n",
        "\n",
        "@. Estimate two wages models. For men and women, using an heteroskedastic regression model.\n",
        "\n",
        "The goal: estimate two potential outcomes for wages. One following Womens wage structure, and the other using Men wage structure.\n"
      ],
      "id": "c1fc408b"
    },
    {
      "cell_type": "code",
      "metadata": {},
      "source": [
        "set linesize 255 \n",
        "frause oaxaca, clear\n",
        "set seed 101\n",
        "qui:hetreg lnwage age agesq married divorced kids6 kids714 if female==0, het(age agesq married divorced kids6 kids714)\n",
        "est sto m1\n",
        "predict xb1, xb\n",
        "predict s1, sigma\n",
        "qui:hetreg lnwage age agesq married divorced kids6 kids714 if female==1, het(age agesq married divorced kids6 kids714)\n",
        "est sto m2\n",
        "predict xb0, xb\n",
        "predict s0, sigma"
      ],
      "id": "1b989311",
      "execution_count": null,
      "outputs": []
    },
    {
      "cell_type": "markdown",
      "metadata": {},
      "source": [
        "Here, as I did for UQregression, I obtain the predicted mean and predicted standard errors. and simulate two wages. I will use \n",
        "wage differences between simulated men and women predicted log wages as the treated effect\n",
        "\n",
        "$$\n",
        "\\begin{aligned}\n",
        "TE= ln\\hat w_1 - ln\\hat w_0  \\\\\n",
        "ln\\hat w_1 \\sim N(xb_1,s^2_1) \\\\\n",
        "ln\\hat w_0 \\sim N(xb_0,s_0^2)\n",
        "\\end{aligned} \n",
        "$$\n"
      ],
      "id": "a2cd15e1"
    },
    {
      "cell_type": "code",
      "metadata": {},
      "source": [
        "gen lnwage1 = rnormal(xb0,s0)\n",
        "gen lnwage0 = rnormal(xb1,s1)\n",
        "gen teff=lnwage1-lnwage0"
      ],
      "id": "24d4006c",
      "execution_count": null,
      "outputs": []
    },
    {
      "cell_type": "markdown",
      "metadata": {},
      "source": [
        "I will create a randomzed treatment, and assume those treated get the treatment effect\n",
        "\n",
        "$$\n",
        "Y_i = Y_i(0) + trt_i * \\delta_i\n",
        "$$\n"
      ],
      "id": "17155858"
    },
    {
      "cell_type": "code",
      "metadata": {},
      "source": [
        "gen trt = runiform()<.5\n",
        "replace lnwage = lnwage0 + trt * teff"
      ],
      "id": "5c523328",
      "execution_count": null,
      "outputs": []
    },
    {
      "cell_type": "markdown",
      "metadata": {},
      "source": [
        "## Visual Exploration\n",
        "\n",
        "Now that we have a randomized treatment, we could start exploring the data:\n"
      ],
      "id": "f5e80e86"
    },
    {
      "cell_type": "code",
      "metadata": {},
      "source": [
        "*| fig-cap: Log wage distribution between Treated and untreated\n",
        "two (kdensity lnwage if trt == 1) (kdensity lnwage if trt == 0) , ///\n",
        "    legend(order(1 \"Treated\" 2 \"Untreated\"))"
      ],
      "id": "bfe46bde",
      "execution_count": null,
      "outputs": []
    },
    {
      "cell_type": "markdown",
      "metadata": {},
      "source": [
        "In order to estimate the treatment effects, we could simple estimate a regression model \n",
        "of the outcome. Compare it to the treatment effect\n",
        "\n",
        "## Estimation of ATE Effect\n"
      ],
      "id": "5d183e10"
    },
    {
      "cell_type": "code",
      "metadata": {},
      "source": [
        "** True Effect\n",
        "sum teff\n",
        "** Simple Regression\n",
        "set linesize 255\n",
        "reg lnwage  trt, robust\n",
        "est sto m0"
      ],
      "id": "29dc79a4",
      "execution_count": null,
      "outputs": []
    },
    {
      "cell_type": "markdown",
      "metadata": {},
      "source": [
        "Because treatment is randomized, we could also add other controls to the model, and improve on precision\n"
      ],
      "id": "11162da2"
    },
    {
      "cell_type": "code",
      "metadata": {},
      "source": [
        "*| output: asis\n",
        "qui:reg lnwage  trt age agesq , robust\n",
        "est sto m1\n",
        "qui:reg lnwage  trt age agesq married divorced , robust\n",
        "est sto m2\n",
        "qui:reg lnwage  trt age agesq married divorced kids6 kids714 , robust\n",
        "est sto m3\n",
        "\n",
        "esttab m0 m1 m2 m3, se nonum mtitle(\"m0\" \"m1\" \"m2\" \"m3\") keep(trt) md"
      ],
      "id": "f15bdaaa",
      "execution_count": null,
      "outputs": []
    },
    {
      "cell_type": "markdown",
      "metadata": {},
      "source": [
        "## Falsification \n",
        "\n",
        "We could just use other outcomes that shouldnt be affected by the treatment. \n",
        "You expect they have no impact on outcome\n"
      ],
      "id": "88f49188"
    },
    {
      "cell_type": "code",
      "metadata": {},
      "source": [
        "*| output: asis\n",
        "\n",
        "qui:reg exper  trt age agesq married divorced kids6 kids714 , robust\n",
        "est sto m0\n",
        "qui:reg tenure trt age agesq married divorced kids6 kids714 , robust\n",
        "est sto m1\n",
        "esttab m0 m1 , se nonum mtitle(\"m0\" \"m1\") keep(trt) md"
      ],
      "id": "d2bc56e0",
      "execution_count": null,
      "outputs": []
    },
    {
      "cell_type": "markdown",
      "metadata": {},
      "source": [
        "## Balance test\n",
        "\n",
        "You should also try to create balance tables, where you compare and test if characteristics are similar across \n",
        "treated and control groups:\n"
      ],
      "id": "045f1bde"
    },
    {
      "cell_type": "code",
      "metadata": {},
      "source": [
        "tabstat age agesq married divorced kids6 kids714 , by(trt)\n",
        "sureg age agesq married divorced kids6 kids714 =trt, "
      ],
      "id": "5829ca53",
      "execution_count": null,
      "outputs": []
    },
    {
      "cell_type": "markdown",
      "metadata": {},
      "source": [
        "Here, the goal is just to see if `trt` is not-significant across groups\n"
      ],
      "id": "334d7e64"
    }
  ],
  "metadata": {
    "kernelspec": {
      "name": "nbstata",
      "language": "stata",
      "display_name": "Stata (nbstata)",
      "path": "C:\\Users\\Fernando\\AppData\\Roaming\\jupyter\\kernels\\nbstata"
    }
  },
  "nbformat": 4,
  "nbformat_minor": 5
}