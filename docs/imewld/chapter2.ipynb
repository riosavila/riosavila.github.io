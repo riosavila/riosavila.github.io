{
  "cells": [
    {
      "cell_type": "markdown",
      "metadata": {},
      "source": [
        "# Chapter 2: The Simple Regression Model\n",
        "\n",
        "## Example 2.3: CEO Salary and Return on Equity\n",
        "\n",
        "Model:\n",
        "\n",
        "$$salary = \\beta_0 + \\beta_1 roe + u$$\n",
        "\n",
        "> **None**\n",
        ">\n",
        "> ``` stata\n",
        "> frause ceosal1, clear\n",
        "> reg salary roe    \n",
        "> ```\n",
        ">\n",
        ">\n",
        ">           Source |       SS           df       MS      Number of obs   =       209\n",
        ">     -------------+----------------------------------   F(1, 207)       =      2.77\n",
        ">            Model |  5166419.04         1  5166419.04   Prob > F        =    0.0978\n",
        ">         Residual |   386566563       207  1867471.32   R-squared       =    0.0132\n",
        ">     -------------+----------------------------------   Adj R-squared   =    0.0084\n",
        ">            Total |   391732982       208  1883331.64   Root MSE        =    1366.6\n",
        ">\n",
        ">     ------------------------------------------------------------------------------\n",
        ">           salary | Coefficient  Std. err.      t    P>|t|     [95% conf. interval]\n",
        ">     -------------+----------------------------------------------------------------\n",
        ">              roe |   18.50119   11.12325     1.66   0.098    -3.428196    40.43057\n",
        ">            _cons |   963.1913   213.2403     4.52   0.000     542.7902    1383.592\n",
        ">     ------------------------------------------------------------------------------"
      ],
      "id": "d281a3ef-e2f4-447a-bf8b-542e395f5e9a"
    }
  ],
  "nbformat": 4,
  "nbformat_minor": 5,
  "metadata": {
    "kernelspec": {
      "name": "nbstata",
      "display_name": "Stata (nbstata)",
      "language": "stata"
    }
  }
}