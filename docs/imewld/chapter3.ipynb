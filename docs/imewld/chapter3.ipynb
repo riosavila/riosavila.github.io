{
  "cells": [
    {
      "cell_type": "markdown",
      "metadata": {},
      "source": [
        "# Chapter 3: Multiple Regression Znalysis: Estimation\n",
        "\n",
        "## Example 3.1: Determinants of College GPA\n",
        "\n",
        "Model:\n",
        "\n",
        "$$colGPA = \\beta_0 + \\beta_1hsGPA + \\beta_2ACT + u$$"
      ],
      "id": "311cb2a2-1237-428c-944e-a56d1c95db4b"
    },
    {
      "cell_type": "code",
      "execution_count": 1,
      "metadata": {},
      "outputs": [
        {
          "output_type": "stream",
          "name": "stdout",
          "text": [
            "\n",
            "      Source |       SS           df       MS      Number of obs   =       141\n",
            "-------------+----------------------------------   F(2, 138)       =     14.78\n",
            "       Model |  3.42365506         2  1.71182753   Prob > F        =    0.0000\n",
            "    Residual |  15.9824444       138  .115814814   R-squared       =    0.1764\n",
            "-------------+----------------------------------   Adj R-squared   =    0.1645\n",
            "       Total |  19.4060994       140  .138614996   Root MSE        =    .34032\n",
            "\n",
            "------------------------------------------------------------------------------\n",
            "      colgpa | Coefficient  Std. err.      t    P>|t|     [95% conf. interval]\n",
            "-------------+----------------------------------------------------------------\n",
            "       hsgpa |   .4534559   .0958129     4.73   0.000     .2640047    .6429071\n",
            "         act |    .009426   .0107772     0.87   0.383    -.0118838    .0307358\n",
            "       _cons |   1.286328   .3408221     3.77   0.000      .612419    1.960237\n",
            "------------------------------------------------------------------------------\n",
            "\n",
            "      Source |       SS           df       MS      Number of obs   =       141\n",
            "-------------+----------------------------------   F(1, 139)       =      6.21\n",
            "       Model |  .829558811         1  .829558811   Prob > F        =    0.0139\n",
            "    Residual |  18.5765406       139  .133644177   R-squared       =    0.0427\n",
            "-------------+----------------------------------   Adj R-squared   =    0.0359\n",
            "       Total |  19.4060994       140  .138614996   Root MSE        =    .36557\n",
            "\n",
            "------------------------------------------------------------------------------\n",
            "      colgpa | Coefficient  Std. err.      t    P>|t|     [95% conf. interval]\n",
            "-------------+----------------------------------------------------------------\n",
            "         act |    .027064   .0108628     2.49   0.014     .0055862    .0485417\n",
            "       _cons |   2.402979   .2642027     9.10   0.000     1.880604    2.925355\n",
            "------------------------------------------------------------------------------"
          ]
        }
      ],
      "source": [
        "frause gpa1, clear\n",
        "regress colgpa hsgpa act\n",
        "regress colgpa act"
      ],
      "id": "2958c344"
    },
    {
      "cell_type": "markdown",
      "metadata": {},
      "source": [
        "## Example 3.2: Hourly Wage Equation\n",
        "\n",
        "Model:\n",
        "\n",
        "$$log(wage)=\\beta_0 + \\beta_1educ + \\beta_2exper + \\beta_3tenure + u$$"
      ],
      "id": "e0a220c8-6405-4e71-8f58-a716220103da"
    },
    {
      "cell_type": "code",
      "execution_count": 2,
      "metadata": {},
      "outputs": [
        {
          "output_type": "stream",
          "name": "stdout",
          "text": [
            "\n",
            "      Source |       SS           df       MS      Number of obs   =       526\n",
            "-------------+----------------------------------   F(3, 522)       =     80.39\n",
            "       Model |  46.8741776         3  15.6247259   Prob > F        =    0.0000\n",
            "    Residual |  101.455574       522  .194359337   R-squared       =    0.3160\n",
            "-------------+----------------------------------   Adj R-squared   =    0.3121\n",
            "       Total |  148.329751       525   .28253286   Root MSE        =    .44086\n",
            "\n",
            "------------------------------------------------------------------------------\n",
            "     logwage | Coefficient  Std. err.      t    P>|t|     [95% conf. interval]\n",
            "-------------+----------------------------------------------------------------\n",
            "        educ |    .092029   .0073299    12.56   0.000     .0776292    .1064288\n",
            "       exper |   .0041211   .0017233     2.39   0.017     .0007357    .0075065\n",
            "      tenure |   .0220672   .0030936     7.13   0.000     .0159897    .0281448\n",
            "       _cons |   .2843595   .1041904     2.73   0.007     .0796756    .4890435\n",
            "------------------------------------------------------------------------------"
          ]
        }
      ],
      "source": [
        "frause wage1, clear\n",
        "gen logwage = log(wage)\n",
        "reg logwage educ exper tenure"
      ],
      "id": "3432e599"
    },
    {
      "cell_type": "markdown",
      "metadata": {},
      "source": [
        "## Partialling Out Interpretation of Multiple Regression\n",
        "\n",
        "Model:\n",
        "\n",
        "$$log(wage)=\\beta_0 + \\beta_1educ + \\beta_2exper + \\beta_3tenure + u$$\n",
        "\n",
        "We could estimate the same models with the followin:\n",
        "\n",
        "$$educ=\\gamma_0 + \\gamma_1exper + \\gamma_2tenure + v$$\n",
        "\n",
        "$$log(wage)=\\beta_0 + \\beta_1 \\hat v + u$$"
      ],
      "id": "b67711a3-dd8f-4b0a-b30b-bfad6c22bf08"
    },
    {
      "cell_type": "code",
      "execution_count": 3,
      "metadata": {},
      "outputs": [
        {
          "output_type": "stream",
          "name": "stdout",
          "text": [
            "\n",
            "      Source |       SS           df       MS      Number of obs   =       526\n",
            "-------------+----------------------------------   F(2, 523)       =     29.49\n",
            "       Model |  407.946311         2  203.973156   Prob > F        =    0.0000\n",
            "    Residual |  3617.48335       523  6.91679416   R-squared       =    0.1013\n",
            "-------------+----------------------------------   Adj R-squared   =    0.0979\n",
            "       Total |  4025.42966       525  7.66748506   Root MSE        =      2.63\n",
            "\n",
            "------------------------------------------------------------------------------\n",
            "        educ | Coefficient  Std. err.      t    P>|t|     [95% conf. interval]\n",
            "-------------+----------------------------------------------------------------\n",
            "       exper |  -.0737851   .0097609    -7.56   0.000    -.0929604   -.0546098\n",
            "      tenure |   .0476795   .0183371     2.60   0.010      .011656    .0837031\n",
            "       _cons |   13.57496   .1843245    73.65   0.000     13.21286    13.93707\n",
            "------------------------------------------------------------------------------\n",
            "\n",
            "      Source |       SS           df       MS      Number of obs   =       526\n",
            "-------------+----------------------------------   F(1, 524)       =    136.41\n",
            "       Model |  30.6376773         1  30.6376773   Prob > F        =    0.0000\n",
            "    Residual |  117.692074       524  .224603195   R-squared       =    0.2066\n",
            "-------------+----------------------------------   Adj R-squared   =    0.2050\n",
            "       Total |  148.329751       525   .28253286   Root MSE        =    .47392\n",
            "\n",
            "------------------------------------------------------------------------------\n",
            "     logwage | Coefficient  Std. err.      t    P>|t|     [95% conf. interval]\n",
            "-------------+----------------------------------------------------------------\n",
            "        vhat |    .092029   .0078796    11.68   0.000     .0765495    .1075085\n",
            "       _cons |   1.623268    .020664    78.56   0.000     1.582674    1.663863\n",
            "------------------------------------------------------------------------------"
          ]
        }
      ],
      "source": [
        "reg educ exper tenure\n",
        "predict vhat, resid\n",
        "reg logwage vhat"
      ],
      "id": "7ae86a6e"
    }
  ],
  "nbformat": 4,
  "nbformat_minor": 5,
  "metadata": {
    "kernelspec": {
      "name": "nbstata",
      "display_name": "Stata (nbstata)",
      "language": "stata"
    }
  }
}