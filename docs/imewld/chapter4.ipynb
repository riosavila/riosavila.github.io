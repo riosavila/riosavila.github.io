{
  "cells": [
    {
      "cell_type": "markdown",
      "metadata": {},
      "source": [
        "# Chapter 4: Multiple Regression Analysis: Inference\n",
        "\n",
        "## Testing hypotheses about single linear combinations of the parameters\n",
        "\n",
        "Model:\n",
        "\n",
        "$$log(wage)=\\beta_0 +\\beta_1 jc + \\beta_2 univ + \\beta_3 exper + u$$\n",
        "\n",
        "Hypothesis\n",
        "\n",
        "$$H_0: \\beta_1 = \\beta_2 \\rightarrow \\beta_1 - \\beta_2 = 0$$\n",
        "$$H_1: \\beta_1 < \\beta_2 \\rightarrow \\beta_1 - \\beta_2 < 0$$"
      ],
      "id": "6d5bd2e5-6fc7-499b-9aa0-9cf821572749"
    },
    {
      "cell_type": "code",
      "execution_count": 1,
      "metadata": {},
      "outputs": [
        {
          "output_type": "stream",
          "name": "stdout",
          "text": [
            "\n",
            "      Source |       SS           df       MS      Number of obs   =     6,763\n",
            "-------------+----------------------------------   F(3, 6759)      =    644.53\n",
            "       Model |  357.752575         3  119.250858   Prob > F        =    0.0000\n",
            "    Residual |  1250.54352     6,759  .185019014   R-squared       =    0.2224\n",
            "-------------+----------------------------------   Adj R-squared   =    0.2221\n",
            "       Total |  1608.29609     6,762  .237843255   Root MSE        =    .43014\n",
            "\n",
            "------------------------------------------------------------------------------\n",
            "       lwage | Coefficient  Std. err.      t    P>|t|     [95% conf. interval]\n",
            "-------------+----------------------------------------------------------------\n",
            "          jc |   .0666967   .0068288     9.77   0.000     .0533101    .0800833\n",
            "        univ |   .0768762   .0023087    33.30   0.000     .0723504    .0814021\n",
            "       exper |   .0049442   .0001575    31.40   0.000     .0046355    .0052529\n",
            "       _cons |   1.472326   .0210602    69.91   0.000     1.431041     1.51361\n",
            "------------------------------------------------------------------------------"
          ]
        }
      ],
      "source": [
        "frause twoyear, clear\n",
        "reg lwage jc univ exper"
      ],
      "id": "3bf989b2"
    },
    {
      "cell_type": "code",
      "execution_count": 2,
      "metadata": {},
      "outputs": [
        {
          "output_type": "stream",
          "name": "stdout",
          "text": [
            "\n",
            " ( 1)  jc - univ = 0\n",
            "\n",
            "       F(  1,  6759) =    2.15\n",
            "            Prob > F =    0.1422"
          ]
        }
      ],
      "source": [
        "test jc = univ"
      ],
      "id": "18cf80da"
    },
    {
      "cell_type": "markdown",
      "metadata": {},
      "source": [
        "Manual transformation:\n",
        "\n",
        "$$\\theta = \\beta_1 - \\beta_2 \\rightarrow \\beta_1 = \\theta + \\beta_2 $$\n",
        "\n",
        "$$log(wage)=\\beta_0 +(\\theta + \\beta_2) jc + \\beta_2 univ + \\beta_3 exper + u$$\n",
        "$$log(wage)=\\beta_0 +\\theta jc + \\beta_2 (univ+jc) + \\beta_3 exper + u$$"
      ],
      "id": "312fdd53-9f4c-4a3c-b1e0-446e378c64ac"
    },
    {
      "cell_type": "code",
      "execution_count": 3,
      "metadata": {},
      "outputs": [
        {
          "output_type": "stream",
          "name": "stdout",
          "text": [
            "\n",
            "      Source |       SS           df       MS      Number of obs   =     6,763\n",
            "-------------+----------------------------------   F(3, 6759)      =    644.53\n",
            "       Model |  357.752575         3  119.250858   Prob > F        =    0.0000\n",
            "    Residual |  1250.54352     6,759  .185019014   R-squared       =    0.2224\n",
            "-------------+----------------------------------   Adj R-squared   =    0.2221\n",
            "       Total |  1608.29609     6,762  .237843255   Root MSE        =    .43014\n",
            "\n",
            "------------------------------------------------------------------------------\n",
            "       lwage | Coefficient  Std. err.      t    P>|t|     [95% conf. interval]\n",
            "-------------+----------------------------------------------------------------\n",
            "          jc |  -.0101795   .0069359    -1.47   0.142    -.0237761     .003417\n",
            "      univjc |   .0768762   .0023087    33.30   0.000     .0723504    .0814021\n",
            "       exper |   .0049442   .0001575    31.40   0.000     .0046355    .0052529\n",
            "       _cons |   1.472326   .0210602    69.91   0.000     1.431041     1.51361\n",
            "------------------------------------------------------------------------------"
          ]
        }
      ],
      "source": [
        "gen univjc = univ + jc\n",
        "reg lwage jc univjc exper"
      ],
      "id": "c231d090"
    }
  ],
  "nbformat": 4,
  "nbformat_minor": 5,
  "metadata": {
    "kernelspec": {
      "name": "nbstata",
      "display_name": "Stata (nbstata)",
      "language": "stata"
    }
  }
}