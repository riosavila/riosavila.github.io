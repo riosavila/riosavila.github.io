{
 "cells": [
  {
   "cell_type": "code",
   "execution_count": 1,
   "id": "f91f2713",
   "metadata": {},
   "outputs": [],
   "source": []
  },
  {
   "cell_type": "code",
   "execution_count": 2,
   "id": "5cccba22",
   "metadata": {},
   "outputs": [
    {
     "data": {
      "text/html": [
       "<style>div.jp-Notebook .datagrid-container {min-height: 448px; }</style>"
      ],
      "text/plain": [
       "<IPython.core.display.HTML object>"
      ]
     },
     "metadata": {},
     "output_type": "display_data"
    },
    {
     "name": "stdout",
     "output_type": "stream",
     "text": [
      "\n",
      "    Variable |       VIF       1/VIF  \n",
      "-------------+----------------------\n"
     ]
    },
    {
     "name": "stdout",
     "output_type": "stream",
     "text": [
      "      female |      1.11    0.900413\n",
      "        educ |      1.15    0.873284\n",
      "       exper |      2.48    0.403924\n",
      "      tenure |      1.82    0.549891\n",
      "         age |     54.62    0.018310\n",
      " c.age#c.age |     53.08    0.018839\n",
      "-------------+----------------------\n",
      "    Mean VIF |     19.04\n"
     ]
    }
   ],
   "source": [
    "*| echo: true\n",
    "*| code-fold: false\n",
    "qui:frause oaxaca, clear\n",
    "qui:regress lnwage female educ exper tenure c.age c.age#c.age, robust\n",
    "estat vif"
   ]
  },
  {
   "cell_type": "code",
   "execution_count": 3,
   "id": "634c6358",
   "metadata": {},
   "outputs": [
    {
     "name": "stdout",
     "output_type": "stream",
     "text": [
      "------------------------------------------------------------------------------\n"
     ]
    },
    {
     "name": "stdout",
     "output_type": "stream",
     "text": [
      "             |               Robust\n",
      "   citations | Coefficient  std. err.      t    P>|t|     [95% conf. interval]\n",
      "-------------+----------------------------------------------------------------\n"
     ]
    },
    {
     "name": "stdout",
     "output_type": "stream",
     "text": [
      "       fines |  -7.690437   .3843873   -20.01   0.000    -8.445672   -6.935201\n",
      "             |\n",
      "       taxes |\n",
      "        Tax  |"
     ]
    },
    {
     "name": "stdout",
     "output_type": "stream",
     "text": [
      "  -4.493918   .5819239    -7.72   0.000    -5.637269   -3.350566\n",
      "             |\n",
      "       csize |\n",
      "     Medium  |   5.492308    .531599    10.33   0.000     4.447834    6.536782\n",
      "      Large  |   11.23563   .5709191    19.68   0.000      10.1139    12.35736\n",
      "             |\n",
      "     college |\n",
      "    College  |   5.828441    .588277     9.91   0.000     4.672607    6.984274\n",
      "       _cons |   94.21955   3.948926    23.86   0.000     86.46079    101.9783\n",
      "------------------------------------------------------------------------------\n"
     ]
    }
   ],
   "source": [
    "*| echo: true\n",
    "*| code-fold: false\n",
    "qui:webuse dui, clear\n",
    "regress  citations  fines i.taxes i.csize i.college, robust nohead\n",
    "** regress, coefleg to know \"names\" of variables"
   ]
  },
  {
   "cell_type": "code",
   "execution_count": 4,
   "id": "0f8f6e06",
   "metadata": {},
   "outputs": [
    {
     "name": "stdout",
     "output_type": "stream",
     "text": [
      "\n",
      " ( 1)  1.taxes = 0\n",
      " ( 2)  1.college = 0\n",
      "\n",
      "       F(  2,   494) =   66.74\n",
      "            Prob > F =    0.0000\n"
     ]
    }
   ],
   "source": [
    "*| echo: true\n",
    "*| code-fold: false\n",
    "test 1.taxes 1.college // <- automatically test the joint hypothesis"
   ]
  },
  {
   "cell_type": "code",
   "execution_count": 5,
   "id": "29c11dfa",
   "metadata": {},
   "outputs": [
    {
     "name": "stdout",
     "output_type": "stream",
     "text": [
      "\n",
      " ( 1)  - fines + 2*1.taxes = 0\n",
      "\n",
      "------------------------------------------------------------------------------\n",
      "   citations | Coefficient  Std. err.      t    P>|t|     [95% conf. interval]\n",
      "-------------+----------------------------------------------------------------\n",
      "         (1) |  -1.297398   1.098122    -1.18   0.238    -3.454964    .8601678\n",
      "------------------------------------------------------------------------------\n"
     ]
    }
   ],
   "source": [
    "*| echo: true\n",
    "*| code-fold: false\n",
    "** \"H0: 2*B_Taxes = B_fines\"\n",
    "lincom 2*1.taxes-fines"
   ]
  }
 ],
 "metadata": {
  "kernelspec": {
   "display_name": "Stata (nbstata)",
   "language": "stata",
   "name": "nbstata",
   "path": "C:\\Users\\Fernando\\AppData\\Roaming\\jupyter\\kernels\\nbstata"
  },
  "language_info": {
   "file_extension": ".do",
   "mimetype": "text/x-stata",
   "name": "stata",
   "version": "17"
  }
 },
 "nbformat": 4,
 "nbformat_minor": 5
}