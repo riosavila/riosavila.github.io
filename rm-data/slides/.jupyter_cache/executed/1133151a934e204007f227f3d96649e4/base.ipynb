{
 "cells": [
  {
   "cell_type": "code",
   "execution_count": 1,
   "id": "675793fa",
   "metadata": {},
   "outputs": [],
   "source": []
  },
  {
   "cell_type": "code",
   "execution_count": 2,
   "id": "321ffe2f",
   "metadata": {},
   "outputs": [
    {
     "data": {
      "text/html": [
       "<style>div.jp-Notebook .datagrid-container {min-height: 448px; }</style>"
      ],
      "text/plain": [
       "<IPython.core.display.HTML object>"
      ]
     },
     "metadata": {},
     "output_type": "display_data"
    },
    {
     "name": "stdout",
     "output_type": "stream",
     "text": [
      "(1 missing value generated)\n",
      "(2,519 missing values generated)\n"
     ]
    }
   ],
   "source": [
    "*| echo: true\n",
    "*| code-fold: false\n",
    "*| output: false\n",
    "\n",
    "use data_slides/sp500.dta, clear\n",
    "gen return = (value - value[_n-1])/value[_n-1]\n",
    "gen lost5 = return < -0.05\n",
    "set seed 1\n",
    "\n",
    "** Simulation\n",
    "gen mn_lost5=.\n",
    "forvalues i = 1/1000 {\n",
    "    preserve\n",
    "      qui:sample 500, count\n",
    "      sum lost5 , meanonly\n",
    "    restore\n",
    "    qui:replace mn_lost5 = r(mean) in `i'\n",
    "}"
   ]
  },
  {
   "cell_type": "code",
   "execution_count": 3,
   "id": "104d0b32",
   "metadata": {},
   "outputs": [
    {
     "name": "stdout",
     "output_type": "stream",
     "text": [
      "(start=0, width=.002)\n"
     ]
    },
    {
     "data": {
      "image/png": "[encoded data removed]",
      "text/plain": [
       "<IPython.core.display.Image object>"
      ]
     },
     "metadata": {},
     "output_type": "display_data"
    }
   ],
   "source": [
    "*| echo: false\n",
    "*| fig-align: center\n",
    "qui:set scheme white2\n",
    "qui:color_style tableau\n",
    "histogram mn_lost5,d"
   ]
  },
  {
   "cell_type": "code",
   "execution_count": 4,
   "id": "235ecb6a",
   "metadata": {},
   "outputs": [
    {
     "name": "stdout",
     "output_type": "stream",
     "text": [
      "Bootstrap\n",
      "(running summarize on estimation sample)\n"
     ]
    },
    {
     "name": "stdout",
     "output_type": "stream",
     "text": [
      "\n",
      "Bootstrap replications (1,000)\n",
      "----+--- 1 ---+--- 2 ---+--- 3 ---+--- 4 ---+--- 5 \n"
     ]
    },
    {
     "name": "stdout",
     "output_type": "stream",
     "text": [
      "."
     ]
    },
    {
     "name": "stdout",
     "output_type": "stream",
     "text": [
      "."
     ]
    },
    {
     "name": "stdout",
     "output_type": "stream",
     "text": [
      "."
     ]
    },
    {
     "name": "stdout",
     "output_type": "stream",
     "text": [
      "."
     ]
    },
    {
     "name": "stdout",
     "output_type": "stream",
     "text": [
      "."
     ]
    },
    {
     "name": "stdout",
     "output_type": "stream",
     "text": [
      "."
     ]
    },
    {
     "name": "stdout",
     "output_type": "stream",
     "text": [
      "."
     ]
    },
    {
     "name": "stdout",
     "output_type": "stream",
     "text": [
      "."
     ]
    },
    {
     "name": "stdout",
     "output_type": "stream",
     "text": [
      "."
     ]
    },
    {
     "name": "stdout",
     "output_type": "stream",
     "text": [
      ".\n"
     ]
    },
    {
     "name": "stdout",
     "output_type": "stream",
     "text": [
      "\n",
      "Bootstrap results                                        Number of obs = 2,519\n",
      "                                                         Replications  = 1,000\n",
      "\n",
      "      Command: summarize lost5, meanonly\n",
      "         mean: r(mean)\n",
      "\n"
     ]
    },
    {
     "name": "stdout",
     "output_type": "stream",
     "text": [
      "------------------------------------------------------------------------------\n"
     ]
    },
    {
     "name": "stdout",
     "output_type": "stream",
     "text": [
      "             |   Observed   Bootstrap                         Normal-based\n"
     ]
    },
    {
     "name": "stdout",
     "output_type": "stream",
     "text": [
      "             | coefficient  std. err.      z    P>|z|     [95% conf. interval]\n",
      "-------------+----------------------------------------------------------------\n"
     ]
    },
    {
     "name": "stdout",
     "output_type": "stream",
     "text": [
      "        mean |"
     ]
    },
    {
     "name": "stdout",
     "output_type": "stream",
     "text": [
      "   .0051608   .0014482     3.56   0.000     .0023224    .0079991\n"
     ]
    },
    {
     "name": "stdout",
     "output_type": "stream",
     "text": [
      "------------------------------------------------------------------------------\n"
     ]
    },
    {
     "name": "stdout",
     "output_type": "stream",
     "text": [
      "Formula\n"
     ]
    },
    {
     "name": "stdout",
     "output_type": "stream",
     "text": [
      "\n",
      "Mean estimation                          Number of obs = 2,519\n",
      "\n"
     ]
    },
    {
     "name": "stdout",
     "output_type": "stream",
     "text": [
      "--------------------------------------------------------------\n",
      "             |       Mean   Std. err.     [95% conf. interval]\n",
      "-------------+------------------------------------------------\n",
      "       lost5 |   .0051608   .0014279      .0023607    .0079608\n",
      "--------------------------------------------------------------\n"
     ]
    }
   ],
   "source": [
    "*| echo: true\n",
    "*| code-fold: false\n",
    "*| output: false\n",
    "display \"Bootstrap\"\n",
    "bootstrap mean=r(mean), nowarn reps(1000) seed(1) dots(100): sum lost5, meanonly\n",
    "est sto m1\n",
    "display \"Formula\"\n",
    "mean lost5\n",
    "est sto m2"
   ]
  },
  {
   "cell_type": "code",
   "execution_count": 5,
   "id": "dc18500e",
   "metadata": {},
   "outputs": [
    {
     "name": "stdout",
     "output_type": "stream",
     "text": [
      "\n",
      "\n",
      "|            |           |                  |      Mean |                  |\n",
      "| ---------- | :-------: | :--------------: | :-------: | :--------------: |\n",
      "| Formula    |    0.0052 |  [0.0023,0.0080] |           |                  |\n",
      "| Bootstrap  |           |                  |    0.0052 |  [0.0024,0.0080] |\n",
      "| *N*        |      2519 |                  |      2519 |                  |\n",
      "\n",
      "\n",
      "\n"
     ]
    }
   ],
   "source": [
    "*| echo: false\n",
    "*| code-fold: false\n",
    "*| output: asis\n",
    "set linesize 255\n",
    "esttab m1 m2, ci wide nonumber  b(%5.4f) md compress nostar note(\"\") varlabel(mean \"Formula\" lost5 \"Bootstrap\") "
   ]
  }
 ],
 "metadata": {
  "kernelspec": {
   "display_name": "Stata (nbstata)",
   "language": "stata",
   "name": "nbstata",
   "path": "C:\\Users\\Fernando\\AppData\\Roaming\\jupyter\\kernels\\nbstata"
  },
  "language_info": {
   "file_extension": ".do",
   "mimetype": "text/x-stata",
   "name": "stata",
   "version": "17"
  }
 },
 "nbformat": 4,
 "nbformat_minor": 5
}