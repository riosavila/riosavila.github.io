{
  "cells": [
    {
      "cell_type": "markdown",
      "metadata": {},
      "source": [
        "---\n",
        "title: \"Stata-output\"\n",
        "format: \n",
        "    html: default\n",
        "    pdf: default\n",
        "---\n",
        "\n",
        "\n",
        "# Analyzing Oaxaca dataset\n",
        "\n",
        " \n",
        "smaller \n"
      ],
      "id": "37abe79e"
    },
    {
      "cell_type": "code",
      "metadata": {},
      "source": [
        "*| output: asis\n",
        "*| echo: false\n",
        "display \"```{=html}\"\n",
        "display_file regressx.htm\n"
      ],
      "id": "02c5dcb2",
      "execution_count": null,
      "outputs": []
    },
    {
      "cell_type": "markdown",
      "metadata": {},
      "source": [
        "```\n"
      ],
      "id": "d500c7b9"
    }
  ],
  "metadata": {
    "kernelspec": {
      "name": "nbstata",
      "language": "stata",
      "display_name": "Stata (nbstata)",
      "path": "C:\\Users\\Fernando\\AppData\\Roaming\\jupyter\\kernels\\nbstata"
    }
  },
  "nbformat": 4,
  "nbformat_minor": 5
}