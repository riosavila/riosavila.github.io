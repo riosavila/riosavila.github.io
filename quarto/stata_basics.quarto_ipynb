{
  "cells": [
    {
      "cell_type": "markdown",
      "metadata": {},
      "source": [
        "---\n",
        "title: \"Stata-output\"\n",
        "format: \n",
        "    html: default\n",
        "    pdf: default\n",
        "---\n",
        "\n",
        "\n",
        "# Analyzing Oaxaca dataset\n",
        "\n",
        " \n",
        "smaller \n"
      ],
      "id": "dde5dd79"
    },
    {
      "cell_type": "code",
      "metadata": {},
      "source": [
        "*| output: asis\n",
        "*| echo: false\n",
        "display \"```{=html}\"\n",
        "display_file regressx.htm\n"
      ],
      "id": "f90c32ad",
      "execution_count": null,
      "outputs": []
    },
    {
      "cell_type": "markdown",
      "metadata": {},
      "source": [
        "```\n"
      ],
      "id": "6eb16685"
    }
  ],
  "metadata": {
    "kernelspec": {
      "name": "nbstata",
      "language": "stata",
      "display_name": "Stata (nbstata)",
      "path": "C:\\Users\\Fernando\\AppData\\Roaming\\jupyter\\kernels\\nbstata"
    }
  },
  "nbformat": 4,
  "nbformat_minor": 5
}